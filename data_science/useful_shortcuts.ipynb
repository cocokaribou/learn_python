{
 "cells": [
  {
   "cell_type": "markdown",
   "metadata": {},
   "source": [
    "## Useful Shortcuts in Jupyter Notebook (windows)\n",
    "\n",
    "### Navigation\n",
    "- A : insert cell above cursor\n",
    "- B : insert cell below cursor\n",
    "- DD : delete current cell\n",
    "- Y : convert to code block\n",
    "- M : convert to markdown\n",
    "- enter : edit cell\n",
    "\n",
    "### Editor\n",
    "- ctrl + enter : execute cell\n",
    "- shift + enter : execute cell and move below\n",
    "- alt + enter : execute cell and insert cell below\n",
    "- ctrl + shift + - : split current cursor into two cell"
   ]
  },
  {
   "cell_type": "code",
   "execution_count": null,
   "metadata": {},
   "outputs": [],
   "source": []
  }
 ],
 "metadata": {
  "kernelspec": {
   "display_name": "Python 3",
   "language": "python",
   "name": "python3"
  },
  "language_info": {
   "codemirror_mode": {
    "name": "ipython",
    "version": 3
   },
   "file_extension": ".py",
   "mimetype": "text/x-python",
   "name": "python",
   "nbconvert_exporter": "python",
   "pygments_lexer": "ipython3",
   "version": "3.8.5"
  }
 },
 "nbformat": 4,
 "nbformat_minor": 4
}

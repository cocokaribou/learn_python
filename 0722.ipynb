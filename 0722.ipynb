{
 "cells": [
  {
   "cell_type": "code",
   "execution_count": 24,
   "metadata": {},
   "outputs": [
    {
     "name": "stdout",
     "output_type": "stream",
     "text": [
      "number of instances is 1\n",
      "it moves at the speed of 30.\n",
      "it turns to the right side.\n",
      "are you there 30\n",
      "it stops \n",
      "wheel size = 2\n",
      "color = red\n",
      "number of instances is 2\n"
     ]
    }
   ],
   "source": [
    "## 2022.07.26\n",
    "## python practice\n",
    "\n",
    "class Vehicle:\n",
    "    # class variable\n",
    "    count = 0\n",
    "    \n",
    "    def __init__(self, size, color) :\n",
    "        # instance varaible\n",
    "        self.wheel_size = size\n",
    "        self.color = color\n",
    "        Vehicle.count+=1\n",
    "        print(\"number of instances is {}\".format(Vehicle.count))\n",
    "    \n",
    "    def move(self, speed) :\n",
    "        self.speed = speed\n",
    "        print(\"it moves at the speed of {}.\".format(self.speed))\n",
    "        \n",
    "    def turn(self, direction) :\n",
    "        self.direction = direction\n",
    "        print(\"it turns to the {} side.\".format(self.direction))\n",
    "        \n",
    "    def stop(self) :\n",
    "        print(\"are you there {}\".format(self.speed))\n",
    "        print(\"it stops \\nwheel size = {}\\ncolor = {}\".format(self.wheel_size, self.color))\n",
    "\n",
    "bike = Vehicle(2, \"red\")\n",
    "bike.move(30)\n",
    "bike.turn(\"right\")\n",
    "bike.stop()\n",
    "bike2 = Vehicle(2, \"blue\")\n",
    "\n",
    "# print(Vehicle.name)"
   ]
  },
  {
   "cell_type": "code",
   "execution_count": 28,
   "metadata": {},
   "outputs": [
    {
     "name": "stdout",
     "output_type": "stream",
     "text": [
      "Sub1\n",
      "Super1 does something\n",
      "Super2 eats something\n"
     ]
    }
   ],
   "source": [
    "## inheritance\n",
    "\n",
    "class Super1:\n",
    "    def __init__(self):\n",
    "        print(\"Super1\")\n",
    "    \n",
    "    def do_something(self):\n",
    "        print(\"Super1 does something\")\n",
    "\n",
    "        \n",
    "class Super2:\n",
    "    def __init__(self):\n",
    "        print(\"Super2\")\n",
    "    \n",
    "    def eat_something(self):\n",
    "        print(\"Super2 eats something\")\n",
    "        \n",
    "\n",
    "class Sub1(Super1, Super2):\n",
    "    def __init__(self):\n",
    "        print(\"Sub1\")\n",
    "\n",
    "sub = Sub1()\n",
    "sub.do_something()\n",
    "sub.eat_something()"
   ]
  },
  {
   "cell_type": "code",
   "execution_count": 33,
   "metadata": {},
   "outputs": [
    {
     "name": "stdout",
     "output_type": "stream",
     "text": [
      "what's your interest: a\n"
     ]
    }
   ],
   "source": [
    "check_type = input(\"what's your interest: \")\n",
    "type(check_type)\n",
    "\n",
    "saved = 'a'"
   ]
  },
  {
   "cell_type": "code",
   "execution_count": 35,
   "metadata": {},
   "outputs": [],
   "source": [
    "del saved"
   ]
  }
 ],
 "metadata": {
  "kernelspec": {
   "display_name": "Python 3",
   "language": "python",
   "name": "python3"
  },
  "language_info": {
   "codemirror_mode": {
    "name": "ipython",
    "version": 3
   },
   "file_extension": ".py",
   "mimetype": "text/x-python",
   "name": "python",
   "nbconvert_exporter": "python",
   "pygments_lexer": "ipython3",
   "version": "3.8.5"
  }
 },
 "nbformat": 4,
 "nbformat_minor": 4
}

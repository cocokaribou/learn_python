{
  "cells": [
    {
      "cell_type": "markdown",
      "metadata": {},
      "source": [
        "### Assignment 01\n",
        "#### 2022.08.02\n",
        "\n",
        "> array [\"rabbit\", \"bear\", \"dog\", \"cat\", \"dog\", \"cat\", \"rabbit\", \"bear\", \"dog\" , \"dog\"]에 대해서,<br>\n",
        "> array [2,5,2,3,1,5,6,7,4,1]의 5보다 같거나 큰 값의 위치에 해당하는 동물들의 종류를 1번씩만 list로 표시 해보세요.\n",
        "\n",
        "> 단, for문 쓰지 말것"
      ]
    },
    {
      "cell_type": "code",
      "execution_count": 98,
      "metadata": {
        "trusted": true
      },
      "outputs": [],
      "source": [
        "animal_list = [\"rabbit\", \"bear\", \"dog\", \"cat\", \"dog\", \"cat\", \"rabbit\", \"bear\", \"dog\" , \"dog\"]\n",
        "num_list = [2,5,2,3,1,5,6,7,4,1]"
      ]
    },
    {
      "cell_type": "markdown",
      "metadata": {},
      "source": [
        "### Attempt 01"
      ]
    },
    {
      "cell_type": "code",
      "execution_count": 15,
      "metadata": {
        "trusted": true
      },
      "outputs": [
        {
          "name": "stdout",
          "output_type": "stream",
          "text": [
            "['rabbit', 'cat', 'bear']\n"
          ]
        }
      ],
      "source": [
        "animal_set = set()\n",
        "\n",
        "for i, num in enumerate(num_list):\n",
        "    if(num >= 5):\n",
        "        animal_set.add(animal_list[i])\n",
        "\n",
        "\n",
        "print(list(animal_set))"
      ]
    },
    {
      "cell_type": "markdown",
      "metadata": {},
      "source": [
        "### Attempt 02"
      ]
    },
    {
      "cell_type": "code",
      "execution_count": 99,
      "metadata": {
        "trusted": true
      },
      "outputs": [
        {
          "name": "stdout",
          "output_type": "stream",
          "text": [
            "['bear' 'cat' 'rabbit']\n"
          ]
        }
      ],
      "source": [
        "import numpy as np\n",
        "\n",
        "np_animals = np.array(animal_list)\n",
        "np_nums = np.array(num_list)\n",
        "\n",
        "list_animals = np.array(list())\n",
        "for i in np.where(np_nums >= 5):\n",
        "    list_animals = np_animals[i]\n",
        "\n",
        "print(np.unique(list_animals))"
      ]
    },
    {
      "cell_type": "markdown",
      "metadata": {},
      "source": [
        "### Attempt 03"
      ]
    },
    {
      "cell_type": "code",
      "execution_count": 100,
      "metadata": {
        "trusted": true
      },
      "outputs": [
        {
          "name": "stdout",
          "output_type": "stream",
          "text": [
            "['cat', 'rabbit', 'bear']\n"
          ]
        }
      ],
      "source": [
        "input_dict = dict(zip(num_list, animal_list))\n",
        "\n",
        "result_dict = dict(filter(lambda elem:elem[0]>=5, result_dict.items()))\n",
        "\n",
        "print(list(result_dict.values()))\n"
      ]
    },
    {
      "cell_type": "markdown",
      "metadata": {},
      "source": [
        "### Attempt 04"
      ]
    },
    {
      "cell_type": "code",
      "execution_count": 103,
      "metadata": {
        "trusted": true
      },
      "outputs": [
        {
          "name": "stdout",
          "output_type": "stream",
          "text": [
            "['rabbit', 'cat', 'bear']\n"
          ]
        }
      ],
      "source": [
        "result = list(set(np_animals[np.where( np_nums >= 5)]))\n",
        "\n",
        "print(result)"
      ]
    }
  ],
  "metadata": {
    "kernelspec": {
      "display_name": "Python (Pyodide)",
      "language": "python",
      "name": "python"
    },
    "language_info": {
      "codemirror_mode": {
        "name": "python",
        "version": 3
      },
      "file_extension": ".py",
      "mimetype": "text/x-python",
      "name": "python",
      "nbconvert_exporter": "python",
      "pygments_lexer": "ipython3",
      "version": "3.8"
    }
  },
  "nbformat": 4,
  "nbformat_minor": 4
}

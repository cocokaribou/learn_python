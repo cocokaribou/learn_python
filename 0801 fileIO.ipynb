{
 "cells": [
  {
   "cell_type": "code",
   "execution_count": 3,
   "metadata": {},
   "outputs": [
    {
     "name": "stdout",
     "output_type": "stream",
     "text": [
      "커피 판매를 처리합니다! 지시대로 입력하세요!\n",
      "우선 날짜와 커피 품목들을 한 줄로 입력하세요!날짜 에스프레소 아메리카노 카페라테 카푸치노\n",
      "날짜 에스프레소 아메리카노 카페라테 카푸치노\n",
      "일별 판매량을 품목별로 입력하세요! : 12.21 10 50 45 20\n",
      "12.21 10 50 45 20\n",
      "일별 판매량을 품목별로 입력하세요! : 12.22 12 45 41 18\n",
      "12.22 12 45 41 18\n",
      "일별 판매량을 품목별로 입력하세요! : 12.23 11 53 32 25\n",
      "12.23 11 53 32 25\n",
      "일별 판매량을 품목별로 입력하세요! : 12.24 24 49 38 22\n",
      "12.24 24 49 38 22\n",
      "일별 판매량을 품목별로 입력하세요! : -1\n",
      "입력 종료!\n"
     ]
    }
   ],
   "source": [
    "## File write\n",
    "## ex> Coffee Sales\n",
    "\n",
    "try :\n",
    "    myFile = open(\"coffee_sales.txt\", 'w')\n",
    "    print(\"커피 판매를 처리합니다! 지시대로 입력하세요!\")\n",
    "    sTitle = input(\"우선 날짜와 커피 품목들을 한 줄로 입력하세요!\")\n",
    "    print(sTitle)\n",
    "    myFile.write(sTitle + '\\n')\n",
    "    \n",
    "    while True :\n",
    "        sText = input(\"일별 판매량을 품목별로 입력하세요! : \").strip()\n",
    "        if sText.startswith('-1'):\n",
    "            print(\"입력 종료!\")\n",
    "            break\n",
    "        print(sText)\n",
    "        myFile.write(sText + '\\n')\n",
    "finally :\n",
    "    myFile.close()"
   ]
  },
  {
   "cell_type": "code",
   "execution_count": 18,
   "metadata": {},
   "outputs": [
    {
     "name": "stdout",
     "output_type": "stream",
     "text": [
      "에스프레소 : [10, 12, 11, 24]\n",
      "아메리카노 : [50, 45, 53, 49]\n",
      "카페라테 : [45, 41, 32, 38]\n",
      "카푸치노 : [20, 18, 25, 22]\n",
      "\n",
      "[에스프레소] 판매량 - 전체: 57, 하루평균: 14.25\n",
      "[아메리카노] 판매량 - 전체: 197, 하루평균: 49.25\n",
      "[카페라테] 판매량 - 전체: 156, 하루평균: 39.0\n",
      "[카푸치노] 판매량 - 전체: 85, 하루평균: 21.25\n",
      "\n",
      "[57, 197, 156, 85]\n",
      "[14.25, 49.25, 39.0, 21.25]\n"
     ]
    }
   ],
   "source": [
    "## File read\n",
    "## coffee sales data processing\n",
    "\n",
    "try :\n",
    "    myFile = open(\"coffee_sales.txt\")\n",
    "    header = myFile.readline()\n",
    "    headerList = header.split()\n",
    "    \n",
    "    # 커피 종류별로 빈 리스트 생성\n",
    "    espresso = []; americano = []\n",
    "    cafelatte = []; cappucino = []\n",
    "    \n",
    "    # read daily sales\n",
    "    for line in myFile :\n",
    "        dataList = line.split()\n",
    "        espresso.append(int(dataList[1]))\n",
    "        americano.append(int(dataList[2]))\n",
    "        cafelatte.append(int(dataList[3]))\n",
    "        cappucino.append(int(dataList[4]))\n",
    "finally:\n",
    "    myFile.close()\n",
    "    \n",
    "## 변수에 할당된 값 출력\n",
    "print(\"{} : {}\".format(headerList[1], espresso))\n",
    "print(\"{} : {}\".format(headerList[2], americano))\n",
    "print(\"{} : {}\".format(headerList[3], cafelatte))\n",
    "print(\"{} : {}\".format(headerList[4], cappucino))\n",
    "print()\n",
    "\n",
    "## 판매 통계 구하기\n",
    "total_sum = [sum(espresso), sum(americano), sum(cafelatte), sum(cappucino)]\n",
    "total_mean = [sum(espresso)/len(espresso), \n",
    "              sum(americano)/len(americano),\n",
    "              sum(cafelatte)/len(cafelatte),\n",
    "              sum(cappucino)/len(cappucino)]\n",
    "\n",
    "for k in range(len(total_sum)) :\n",
    "    print(\"[{}] 판매량 - 전체: {}, 하루평균: {}\".format(headerList[k+1], \n",
    "                                               total_sum[k], total_mean[k]))\n",
    "    \n",
    "    \n",
    "## list comprehension\n",
    "print()\n",
    "temp = [espresso, americano, cafelatte, cappucino] #list within list\n",
    "# sum_total = list(sum(x) for x in temp)\n",
    "sum_total = [sum(x) for x in temp]\n",
    "mean_total = [sum(x)/len(x) for x in temp]\n",
    "print(sum_total)\n",
    "print(mean_total)"
   ]
  },
  {
   "cell_type": "code",
   "execution_count": 67,
   "metadata": {},
   "outputs": [
    {
     "name": "stdout",
     "output_type": "stream",
     "text": [
      "'yesterday'는 가사에 9번 들어가있습니다.\n"
     ]
    }
   ],
   "source": [
    "## 과제 1\n",
    "## Beatles - Yesterday 가사에서 \"yesterday\"가 몇 번 나오는지?\n",
    "\n",
    "counter = 0\n",
    "\n",
    "try :\n",
    "    lyrics = open(\"yesterday.txt\")\n",
    "    lines = lyrics.readlines()\n",
    "    \n",
    "    for line in lines:\n",
    "        for word in line.split():\n",
    "            if (word.lower().startswith(\"yesterday\")) : counter += 1\n",
    "\n",
    "\n",
    "finally :\n",
    "    lyrics.close()\n",
    "    \n",
    "\n",
    "print(\"'yesterday'는 가사에 {}번 들어가있습니다.\".format(counter))\n",
    "        "
   ]
  },
  {
   "cell_type": "code",
   "execution_count": null,
   "metadata": {},
   "outputs": [],
   "source": [
    "## 과제 2\n",
    "## \"TestFile_01.txt\"라는 파일 생성"
   ]
  }
 ],
 "metadata": {
  "kernelspec": {
   "display_name": "Python 3",
   "language": "python",
   "name": "python3"
  },
  "language_info": {
   "codemirror_mode": {
    "name": "ipython",
    "version": 3
   },
   "file_extension": ".py",
   "mimetype": "text/x-python",
   "name": "python",
   "nbconvert_exporter": "python",
   "pygments_lexer": "ipython3",
   "version": "3.8.5"
  }
 },
 "nbformat": 4,
 "nbformat_minor": 4
}

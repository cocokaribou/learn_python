{
 "cells": [
  {
   "cell_type": "code",
   "execution_count": null,
   "metadata": {},
   "outputs": [],
   "source": [
    "## File IO\n",
    "## ex> Coffee Sales\n",
    "\n",
    "try :\n",
    "    myFile = open(\"coffee_sales2.txt\", 'w')\n",
    "    print(\"커피 판매를 처리합니다! 지시대로 입력하세요!\")\n",
    "    sTitle = input(\"우선 날짜와 커피 품목들을 한 줄로 입력하세요!\")\n",
    "    print(sTitle)\n",
    "    myFile.write(sTitle + '\\n')\n",
    "    \n",
    "    while True :\n",
    "        sText = input(\"일별 판매량을 품목별로 입력하세요! : \").strip()\n",
    "        if sText.startswith('-1'):\n",
    "            print(\"입력 종료!\")\n",
    "            break\n",
    "        print(sText)\n",
    "        myFile.write(sText + '\\n')\n",
    "finally :\n",
    "    myFile.close()"
   ]
  },
  {
   "cell_type": "code",
   "execution_count": null,
   "metadata": {},
   "outputs": [],
   "source": []
  },
  {
   "cell_type": "code",
   "execution_count": null,
   "metadata": {},
   "outputs": [],
   "source": []
  },
  {
   "cell_type": "code",
   "execution_count": null,
   "metadata": {},
   "outputs": [],
   "source": []
  },
  {
   "cell_type": "code",
   "execution_count": null,
   "metadata": {},
   "outputs": [],
   "source": []
  }
 ],
 "metadata": {
  "kernelspec": {
   "display_name": "Python 3",
   "language": "python",
   "name": "python3"
  },
  "language_info": {
   "codemirror_mode": {
    "name": "ipython",
    "version": 3
   },
   "file_extension": ".py",
   "mimetype": "text/x-python",
   "name": "python",
   "nbconvert_exporter": "python",
   "pygments_lexer": "ipython3",
   "version": "3.8.5"
  }
 },
 "nbformat": 4,
 "nbformat_minor": 4
}
